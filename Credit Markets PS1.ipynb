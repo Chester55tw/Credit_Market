{
 "cells": [
  {
   "cell_type": "markdown",
   "source": [
    "# Credit Markets PS1\n",
    "## Credit Scoring, Credit Migration, and Actuarial Approaches: Problems"
   ],
   "metadata": {
    "collapsed": false
   }
  },
  {
   "cell_type": "code",
   "execution_count": 196,
   "outputs": [],
   "source": [
    "import pandas as pd\n",
    "import matplotlib.pylab as plt\n",
    "import numpy as np\n",
    "import matplotlib as mpl\n",
    "import seaborn as sns\n",
    "from scipy import stats\n",
    "import scipy as sp\n",
    "from sklearn import svm\n",
    "from scipy.integrate import dblquad\n",
    "from sklearn.linear_model import LogisticRegression,LinearRegression\n",
    "from sklearn.discriminant_analysis import LinearDiscriminantAnalysis as LDA\n",
    "from sklearn.metrics import confusion_matrix, roc_curve"
   ],
   "metadata": {
    "collapsed": false,
    "ExecuteTime": {
     "end_time": "2023-10-02T16:44:10.214661Z",
     "start_time": "2023-10-02T16:44:10.203922Z"
    }
   }
  },
  {
   "cell_type": "markdown",
   "source": [
    "1. (Linear Discriminant Analysis) Using the data in Table 1, implement linear discriminant analysis (LDA) for default prediction:\n",
    "\n",
    "(a) Provide a scatter plot of the data. Illustrate the observations of survivor firms using blue dots, and those of bankrupt firms using red dots. Discuss how the two financial ratios that are provided in Table 1 are correlated with the observed bankruptcy outcomes. Do these correlations make sense to you?"
   ],
   "metadata": {
    "collapsed": false
   }
  },
  {
   "cell_type": "code",
   "execution_count": 184,
   "outputs": [
    {
     "data": {
      "text/plain": "<Figure size 432x288 with 1 Axes>",
      "image/png": "[encoded data removed]"
     },
     "metadata": {},
     "output_type": "display_data"
    }
   ],
   "source": [
    "tbl1=pd.read_excel('PS1 data.xlsx',sheet_name='table1')\n",
    "\n",
    "# cm=mpl.colors.ListedColormap(['g','r'])\n",
    "plt.scatter(x='Current Ratio',y='Debt-to-Asset',data=tbl1[tbl1['Bankruptcy']==0],c='b')\n",
    "plt.scatter(x='Current Ratio',y='Debt-to-Asset',data=tbl1[tbl1['Bankruptcy']==1],c='r')\n",
    "plt.legend(['Survive','Bankrupt'])\n",
    "plt.xlabel('Current Ratio')\n",
    "plt.ylabel('Debt-to-Asset')\n",
    "plt.show()"
   ],
   "metadata": {
    "collapsed": false,
    "ExecuteTime": {
     "end_time": "2023-10-02T16:03:40.049156Z",
     "start_time": "2023-10-02T16:03:39.821131Z"
    }
   }
  },
  {
   "cell_type": "markdown",
   "source": [],
   "metadata": {
    "collapsed": false
   }
  },
  {
   "cell_type": "markdown",
   "source": [
    "(b) Assuming equal priors, compute the Z-scores and fill in the corresponding missing values in Table 1."
   ],
   "metadata": {
    "collapsed": false
   }
  },
  {
   "cell_type": "code",
   "execution_count": 185,
   "outputs": [],
   "source": [
    "q0,q1=0.5,0.5\n",
    "x0=np.array(tbl1.loc[tbl1['Bankruptcy']==0,['Current Ratio','Debt-to-Asset']])\n",
    "x1=np.array(tbl1.loc[tbl1['Bankruptcy']==1,['Current Ratio','Debt-to-Asset']])\n",
    "mu0_est=np.mean(x0,axis=0)\n",
    "mu1_est=np.mean(x1,axis=0)\n",
    "#sig_est=np.std(tbl1[['Current Ratio','Debt-to-Asset']],axis=0)"
   ],
   "metadata": {
    "collapsed": false,
    "ExecuteTime": {
     "end_time": "2023-10-02T16:03:42.221202Z",
     "start_time": "2023-10-02T16:03:42.210883Z"
    }
   }
  },
  {
   "cell_type": "code",
   "execution_count": 186,
   "outputs": [],
   "source": [
    "sig_est=(np.cov(x0.T)*(len(x0)-1)+np.cov(x1.T)*(len(x1)-1))/(len(tbl1)-2)"
   ],
   "metadata": {
    "collapsed": false,
    "ExecuteTime": {
     "end_time": "2023-10-02T16:03:43.053007Z",
     "start_time": "2023-10-02T16:03:43.038984Z"
    }
   }
  },
  {
   "cell_type": "code",
   "execution_count": 189,
   "outputs": [
    {
     "data": {
      "text/plain": "(array([ 2.566, 38.1  ]),\n array([ 1.87333333, 51.77777778]),\n array([ 2.21966667, 44.93888889]))"
     },
     "execution_count": 189,
     "metadata": {},
     "output_type": "execute_result"
    }
   ],
   "source": [
    "(mu0_est,mu1_est, (mu0_est+mu1_est)/2)"
   ],
   "metadata": {
    "collapsed": false,
    "ExecuteTime": {
     "end_time": "2023-10-02T16:17:04.048610Z",
     "start_time": "2023-10-02T16:17:04.034976Z"
    }
   }
  },
  {
   "cell_type": "markdown",
   "source": [
    "Current Ratio>=2.2197, Debt-to-Asset<=44.9389, non-default"
   ],
   "metadata": {
    "collapsed": false
   }
  },
  {
   "cell_type": "code",
   "execution_count": 191,
   "outputs": [
    {
     "name": "stdout",
     "output_type": "stream",
     "text": [
      "0 not sure\n",
      "1 non-def\n",
      "2 not sure\n",
      "3 not sure\n",
      "4 non-def\n",
      "5 not sure\n",
      "6 not sure\n",
      "7 non-def\n",
      "8 not sure\n",
      "9 non-def\n",
      "10 non-def\n",
      "11 def\n",
      "12 def\n",
      "13 not sure\n",
      "14 def\n",
      "15 not sure\n",
      "16 not sure\n",
      "17 not sure\n",
      "18 def\n"
     ]
    }
   ],
   "source": [
    "decision_rule=(mu0_est+mu1_est)/2\n",
    "for i in range(len(tbl1)):\n",
    "    if tbl1.loc[i,'Current Ratio']>=decision_rule[0] and tbl1.loc[i,'Debt-to-Asset']<=decision_rule[1]:\n",
    "        print(i,'non-def')\n",
    "    elif tbl1.loc[i,'Current Ratio']<decision_rule[0] and tbl1.loc[i,'Debt-to-Asset']>decision_rule[1]:\n",
    "        print(i,'def')\n",
    "    else:\n",
    "        print(i, 'not sure')"
   ],
   "metadata": {
    "collapsed": false,
    "ExecuteTime": {
     "end_time": "2023-10-02T16:22:27.369621Z",
     "start_time": "2023-10-02T16:22:27.353867Z"
    }
   }
  },
  {
   "cell_type": "markdown",
   "source": [
    "(c) Compute the zones of discrimination and fill in the predicted bankruptcy outcomes in Table 1. How many observations are misclassified? Discuss! [Note: 1 denotes bankruptcy, 0 denotes survival.]"
   ],
   "metadata": {
    "collapsed": false
   }
  },
  {
   "cell_type": "code",
   "execution_count": 194,
   "outputs": [
    {
     "data": {
      "text/plain": "LinearDiscriminantAnalysis(priors=[0.5, 0.5])",
      "text/html": "<style>#sk-container-id-4 {color: black;background-color: white;}#sk-container-id-4 pre{padding: 0;}#sk-container-id-4 div.sk-toggleable {background-color: white;}#sk-container-id-4 label.sk-toggleable__label {cursor: pointer;display: block;width: 100%;margin-bottom: 0;padding: 0.3em;box-sizing: border-box;text-align: center;}#sk-container-id-4 label.sk-toggleable__label-arrow:before {content: \"▸\";float: left;margin-right: 0.25em;color: #696969;}#sk-container-id-4 label.sk-toggleable__label-arrow:hover:before {color: black;}#sk-container-id-4 div.sk-estimator:hover label.sk-toggleable__label-arrow:before {color: black;}#sk-container-id-4 div.sk-toggleable__content {max-height: 0;max-width: 0;overflow: hidden;text-align: left;background-color: #f0f8ff;}#sk-container-id-4 div.sk-toggleable__content pre {margin: 0.2em;color: black;border-radius: 0.25em;background-color: #f0f8ff;}#sk-container-id-4 input.sk-toggleable__control:checked~div.sk-toggleable__content {max-height: 200px;max-width: 100%;overflow: auto;}#sk-container-id-4 input.sk-toggleable__control:checked~label.sk-toggleable__label-arrow:before {content: \"▾\";}#sk-container-id-4 div.sk-estimator input.sk-toggleable__control:checked~label.sk-toggleable__label {background-color: #d4ebff;}#sk-container-id-4 div.sk-label input.sk-toggleable__control:checked~label.sk-toggleable__label {background-color: #d4ebff;}#sk-container-id-4 input.sk-hidden--visually {border: 0;clip: rect(1px 1px 1px 1px);clip: rect(1px, 1px, 1px, 1px);height: 1px;margin: -1px;overflow: hidden;padding: 0;position: absolute;width: 1px;}#sk-container-id-4 div.sk-estimator {font-family: monospace;background-color: #f0f8ff;border: 1px dotted black;border-radius: 0.25em;box-sizing: border-box;margin-bottom: 0.5em;}#sk-container-id-4 div.sk-estimator:hover {background-color: #d4ebff;}#sk-container-id-4 div.sk-parallel-item::after {content: \"\";width: 100%;border-bottom: 1px solid gray;flex-grow: 1;}#sk-container-id-4 div.sk-label:hover label.sk-toggleable__label {background-color: #d4ebff;}#sk-container-id-4 div.sk-serial::before {content: \"\";position: absolute;border-left: 1px solid gray;box-sizing: border-box;top: 0;bottom: 0;left: 50%;z-index: 0;}#sk-container-id-4 div.sk-serial {display: flex;flex-direction: column;align-items: center;background-color: white;padding-right: 0.2em;padding-left: 0.2em;position: relative;}#sk-container-id-4 div.sk-item {position: relative;z-index: 1;}#sk-container-id-4 div.sk-parallel {display: flex;align-items: stretch;justify-content: center;background-color: white;position: relative;}#sk-container-id-4 div.sk-item::before, #sk-container-id-4 div.sk-parallel-item::before {content: \"\";position: absolute;border-left: 1px solid gray;box-sizing: border-box;top: 0;bottom: 0;left: 50%;z-index: -1;}#sk-container-id-4 div.sk-parallel-item {display: flex;flex-direction: column;z-index: 1;position: relative;background-color: white;}#sk-container-id-4 div.sk-parallel-item:first-child::after {align-self: flex-end;width: 50%;}#sk-container-id-4 div.sk-parallel-item:last-child::after {align-self: flex-start;width: 50%;}#sk-container-id-4 div.sk-parallel-item:only-child::after {width: 0;}#sk-container-id-4 div.sk-dashed-wrapped {border: 1px dashed gray;margin: 0 0.4em 0.5em 0.4em;box-sizing: border-box;padding-bottom: 0.4em;background-color: white;}#sk-container-id-4 div.sk-label label {font-family: monospace;font-weight: bold;display: inline-block;line-height: 1.2em;}#sk-container-id-4 div.sk-label-container {text-align: center;}#sk-container-id-4 div.sk-container {/* jupyter's `normalize.less` sets `[hidden] { display: none; }` but bootstrap.min.css set `[hidden] { display: none !important; }` so we also need the `!important` here to be able to override the default hidden behavior on the sphinx rendered scikit-learn.org. See: https://github.com/scikit-learn/scikit-learn/issues/21755 */display: inline-block !important;position: relative;}#sk-container-id-4 div.sk-text-repr-fallback {display: none;}</style><div id=\"sk-container-id-4\" class=\"sk-top-container\"><div class=\"sk-text-repr-fallback\"><pre>LinearDiscriminantAnalysis(priors=[0.5, 0.5])</pre><b>In a Jupyter environment, please rerun this cell to show the HTML representation or trust the notebook. <br />On GitHub, the HTML representation is unable to render, please try loading this page with nbviewer.org.</b></div><div class=\"sk-container\" hidden><div class=\"sk-item\"><div class=\"sk-estimator sk-toggleable\"><input class=\"sk-toggleable__control sk-hidden--visually\" id=\"sk-estimator-id-4\" type=\"checkbox\" checked><label for=\"sk-estimator-id-4\" class=\"sk-toggleable__label sk-toggleable__label-arrow\">LinearDiscriminantAnalysis</label><div class=\"sk-toggleable__content\"><pre>LinearDiscriminantAnalysis(priors=[0.5, 0.5])</pre></div></div></div></div></div>"
     },
     "execution_count": 194,
     "metadata": {},
     "output_type": "execute_result"
    }
   ],
   "source": [
    "mdl=LDA(priors=[0.5,0.5])\n",
    "X=tbl1[['Current Ratio','Debt-to-Asset']]\n",
    "y=tbl1['Bankruptcy']\n",
    "mdl.fit(X,y)"
   ],
   "metadata": {
    "collapsed": false,
    "ExecuteTime": {
     "end_time": "2023-10-02T16:39:38.026349Z",
     "start_time": "2023-10-02T16:39:38.016158Z"
    }
   }
  },
  {
   "cell_type": "code",
   "execution_count": 199,
   "outputs": [
    {
     "data": {
      "text/plain": "    Actual  Predict\n0        0        0\n1        0        0\n2        0        0\n3        1        1\n4        0        0\n5        1        0\n6        1        1\n7        1        0\n8        0        1\n9        0        0\n10       0        0\n11       0        1\n12       1        1\n13       0        0\n14       1        1\n15       1        1\n16       0        0\n17       1        1\n18       1        1",
      "text/html": "<div>\n<style scoped>\n    .dataframe tbody tr th:only-of-type {\n        vertical-align: middle;\n    }\n\n    .dataframe tbody tr th {\n        vertical-align: top;\n    }\n\n    .dataframe thead th {\n        text-align: right;\n    }\n</style>\n<table border=\"1\" class=\"dataframe\">\n  <thead>\n    <tr style=\"text-align: right;\">\n      <th></th>\n      <th>Actual</th>\n      <th>Predict</th>\n    </tr>\n  </thead>\n  <tbody>\n    <tr>\n      <th>0</th>\n      <td>0</td>\n      <td>0</td>\n    </tr>\n    <tr>\n      <th>1</th>\n      <td>0</td>\n      <td>0</td>\n    </tr>\n    <tr>\n      <th>2</th>\n      <td>0</td>\n      <td>0</td>\n    </tr>\n    <tr>\n      <th>3</th>\n      <td>1</td>\n      <td>1</td>\n    </tr>\n    <tr>\n      <th>4</th>\n      <td>0</td>\n      <td>0</td>\n    </tr>\n    <tr>\n      <th>5</th>\n      <td>1</td>\n      <td>0</td>\n    </tr>\n    <tr>\n      <th>6</th>\n      <td>1</td>\n      <td>1</td>\n    </tr>\n    <tr>\n      <th>7</th>\n      <td>1</td>\n      <td>0</td>\n    </tr>\n    <tr>\n      <th>8</th>\n      <td>0</td>\n      <td>1</td>\n    </tr>\n    <tr>\n      <th>9</th>\n      <td>0</td>\n      <td>0</td>\n    </tr>\n    <tr>\n      <th>10</th>\n      <td>0</td>\n      <td>0</td>\n    </tr>\n    <tr>\n      <th>11</th>\n      <td>0</td>\n      <td>1</td>\n    </tr>\n    <tr>\n      <th>12</th>\n      <td>1</td>\n      <td>1</td>\n    </tr>\n    <tr>\n      <th>13</th>\n      <td>0</td>\n      <td>0</td>\n    </tr>\n    <tr>\n      <th>14</th>\n      <td>1</td>\n      <td>1</td>\n    </tr>\n    <tr>\n      <th>15</th>\n      <td>1</td>\n      <td>1</td>\n    </tr>\n    <tr>\n      <th>16</th>\n      <td>0</td>\n      <td>0</td>\n    </tr>\n    <tr>\n      <th>17</th>\n      <td>1</td>\n      <td>1</td>\n    </tr>\n    <tr>\n      <th>18</th>\n      <td>1</td>\n      <td>1</td>\n    </tr>\n  </tbody>\n</table>\n</div>"
     },
     "execution_count": 199,
     "metadata": {},
     "output_type": "execute_result"
    }
   ],
   "source": [
    "y_pred=mdl.predict(X)\n",
    "lda_res=pd.DataFrame(np.vstack([np.array(y),y_pred]).T,columns=['Actual','Predict'])\n",
    "lda_res"
   ],
   "metadata": {
    "collapsed": false,
    "ExecuteTime": {
     "end_time": "2023-10-02T16:46:34.551638Z",
     "start_time": "2023-10-02T16:46:34.545515Z"
    }
   }
  },
  {
   "cell_type": "markdown",
   "source": [
    "(d) (Optional) Implement the analysis using an alternative classification scheme based on machine learning algorithms. You can consider support vector machine (SVM), K-nearest neighbors (KNN), decision trees or random forest algorithms, among many others."
   ],
   "metadata": {
    "collapsed": false
   }
  },
  {
   "cell_type": "code",
   "execution_count": 200,
   "outputs": [],
   "source": [
    "svc=svm.SVC().fit(X,y)\n",
    "y_pred_svc=svc.predict(X)\n",
    "lda_res['SVM predict']=y_pred_svc\n",
    "lda_res.columns=['Actual','LDA predict','SVM predict']\n",
    "lda_res"
   ],
   "metadata": {
    "collapsed": false,
    "ExecuteTime": {
     "end_time": "2023-10-02T16:47:53.567815Z",
     "start_time": "2023-10-02T16:47:53.557063Z"
    }
   }
  },
  {
   "cell_type": "markdown",
   "source": [
    "2. (Logistic Regression) Using the data from Table 1 in Question 1, answer the following questions:\n",
    "\n",
    "(a) Estimate the probability of bankruptcy using the linear probability model. Compute the predicted probability and discuss the potential caveats of this linear model. You can consider drawing similar plots as in the lecture slide titled “Linear Probability Model vs. Logit Model – Example.”"
   ],
   "metadata": {
    "collapsed": false
   }
  },
  {
   "cell_type": "code",
   "execution_count": 202,
   "outputs": [
    {
     "data": {
      "text/plain": "<Figure size 432x288 with 1 Axes>",
      "image/png": "[encoded data removed]"
     },
     "metadata": {},
     "output_type": "display_data"
    }
   ],
   "source": [
    "mdl=LinearRegression()\n",
    "\n",
    "mdl.fit(X,y)\n",
    "y_pred_cls=mdl.predict(X)\n",
    "res=pd.DataFrame(np.hstack([y_pred_cls.reshape(len(y),1),np.array(y).reshape(len(y),1)]),columns=['Predict','Actual']).sort_values('Predict').reset_index(drop=True)\n",
    "\n",
    "plt.plot(res['Predict'])\n",
    "plt.scatter(res.index,res['Actual'],c='r')\n",
    "plt.legend('Logit Model')\n",
    "plt.show()"
   ],
   "metadata": {
    "collapsed": false,
    "ExecuteTime": {
     "end_time": "2023-10-02T16:48:44.234616Z",
     "start_time": "2023-10-02T16:48:44.040552Z"
    }
   }
  },
  {
   "cell_type": "markdown",
   "source": [
    "(b) Repeat the exercise in (a) using the logistic regression model."
   ],
   "metadata": {
    "collapsed": false
   }
  },
  {
   "cell_type": "code",
   "execution_count": 203,
   "outputs": [
    {
     "data": {
      "text/plain": "<Figure size 432x288 with 1 Axes>",
      "image/png": "[encoded data removed]"
     },
     "metadata": {},
     "output_type": "display_data"
    }
   ],
   "source": [
    "mdl=LogisticRegression()\n",
    "X=tbl1[['Current Ratio','Debt-to-Asset']]\n",
    "y=tbl1['Bankruptcy']\n",
    "mdl.fit(X,y)\n",
    "y_pred=mdl.predict_proba(X)\n",
    "y_pred_cls=mdl.predict(X)\n",
    "res=pd.DataFrame(np.hstack([y_pred,y_pred_cls.reshape(len(y),1),np.array(y).reshape(len(y),1)]),columns=['Survive','Bankrupt','Predict','Actual']).sort_values('Bankrupt').reset_index(drop=True)\n",
    "\n",
    "plt.plot(res['Bankrupt'])\n",
    "plt.scatter(res.index,res['Actual'],c='r')\n",
    "plt.legend('Logit Model')\n",
    "plt.show()"
   ],
   "metadata": {
    "collapsed": false,
    "ExecuteTime": {
     "end_time": "2023-10-02T16:48:46.332230Z",
     "start_time": "2023-10-02T16:48:46.146113Z"
    }
   }
  },
  {
   "cell_type": "markdown",
   "source": [
    "(c) Prepare a confusion matrix using the estimated outcome from the logistic model. What is the false positive rate, the false negative rate, the true positive rate (a.k.a. sensitivity), the true negative rate (a.k.a. specificity), respectively?"
   ],
   "metadata": {
    "collapsed": false
   }
  },
  {
   "cell_type": "code",
   "execution_count": 204,
   "outputs": [
    {
     "data": {
      "text/plain": "array([[8, 2],\n       [1, 8]])"
     },
     "execution_count": 204,
     "metadata": {},
     "output_type": "execute_result"
    }
   ],
   "source": [
    "cm=confusion_matrix(res['Actual'],res['Predict'])\n",
    "cm"
   ],
   "metadata": {
    "collapsed": false,
    "ExecuteTime": {
     "end_time": "2023-10-02T16:48:49.137262Z",
     "start_time": "2023-10-02T16:48:49.125295Z"
    }
   }
  },
  {
   "cell_type": "code",
   "execution_count": 205,
   "outputs": [
    {
     "data": {
      "text/plain": "(8, 2, 1, 8)"
     },
     "execution_count": 205,
     "metadata": {},
     "output_type": "execute_result"
    }
   ],
   "source": [
    "tn, fp, fn, tp=cm.ravel()\n",
    "(tn, fp, fn, tp)"
   ],
   "metadata": {
    "collapsed": false,
    "ExecuteTime": {
     "end_time": "2023-10-02T16:48:50.315374Z",
     "start_time": "2023-10-02T16:48:50.305341Z"
    }
   }
  },
  {
   "cell_type": "code",
   "execution_count": 206,
   "outputs": [
    {
     "data": {
      "text/plain": "(0.2, 0.1111111111111111, 0.8888888888888888, 0.8)"
     },
     "execution_count": 206,
     "metadata": {},
     "output_type": "execute_result"
    }
   ],
   "source": [
    "fpr=fp/(fp+tn)\n",
    "fnr=fn/(fn+tp)\n",
    "tpr=tp/(tp+fn)  # sensitivity\n",
    "tnr=tn/(tn+fp)  # specificity\n",
    "(fpr,fnr,tpr,tnr)"
   ],
   "metadata": {
    "collapsed": false,
    "ExecuteTime": {
     "end_time": "2023-10-02T16:48:51.066355Z",
     "start_time": "2023-10-02T16:48:51.036001Z"
    }
   }
  },
  {
   "cell_type": "markdown",
   "source": [
    "(d) Construct the ROC curve of your logistic regression and discuss the model performance based\n",
    "on the AUC."
   ],
   "metadata": {
    "collapsed": false
   }
  },
  {
   "cell_type": "code",
   "execution_count": 207,
   "outputs": [
    {
     "data": {
      "text/plain": "[<matplotlib.lines.Line2D at 0x7fcc119fca60>]"
     },
     "execution_count": 207,
     "metadata": {},
     "output_type": "execute_result"
    },
    {
     "data": {
      "text/plain": "<Figure size 432x288 with 1 Axes>",
      "image/png": "[encoded data removed]"
     },
     "metadata": {},
     "output_type": "display_data"
    }
   ],
   "source": [
    "fpr1,tpr1,thresholds=roc_curve(res['Actual'],res['Predict'],)\n",
    "plt.plot(fpr1,tpr1)"
   ],
   "metadata": {
    "collapsed": false,
    "ExecuteTime": {
     "end_time": "2023-10-02T16:48:53.019406Z",
     "start_time": "2023-10-02T16:48:52.755556Z"
    }
   }
  },
  {
   "cell_type": "markdown",
   "source": [
    "(e) Compare the in-sample performance of the prediction accuracy between the logistic regression\n",
    "model and LDA in Question 1."
   ],
   "metadata": {
    "collapsed": false
   }
  },
  {
   "cell_type": "code",
   "execution_count": null,
   "outputs": [],
   "source": [],
   "metadata": {
    "collapsed": false
   }
  },
  {
   "cell_type": "markdown",
   "source": [
    "3. (CVaR using CreditMetrics) Consider the information in Tables 2 and 3 for answering the following questions. Table 2 summarizes 1-year transition probabilities. Table 3 provides 1-year forward rates for year by year cash flows by ratings. Using these rates, one can construct forward discount factors for the cash flow terms of interest by ratings:\n",
    "\n",
    "(a) Consider a 5-year senior unsecured bond issued by an A-rated obligor today. The bond has a face value of $100 million and an annual coupon rate of 5%. Over 1 year, the obligor’s rating could migrate to new ratings. The average recovery rate upon default for the senior unsecured claim is 51.13%. What is the bond’s expected value (and its standard deviation) in 1 year? Also determine the 1-year 99.7% CVaR of this single debt position."
   ],
   "metadata": {
    "collapsed": false
   }
  },
  {
   "cell_type": "code",
   "execution_count": 208,
   "outputs": [],
   "source": [
    "tbl2=pd.read_excel('PS1 data.xlsx',sheet_name='table2',index_col=0)\n",
    "tbl3=pd.read_excel('PS1 data.xlsx',sheet_name='table3',index_col=0)\n",
    "idx=tbl2.columns.tolist()\n",
    "mat1=np.vstack([np.array(tbl2),np.array([0]*tbl2.shape[1])])\n",
    "\n",
    "#mat1@mat1@mat1@mat1@mat1"
   ],
   "metadata": {
    "collapsed": false,
    "ExecuteTime": {
     "end_time": "2023-10-02T16:49:28.992886Z",
     "start_time": "2023-10-02T16:49:28.958634Z"
    }
   }
  },
  {
   "cell_type": "code",
   "execution_count": 209,
   "outputs": [],
   "source": [
    "trans_1y=pd.DataFrame(mat1@mat1,index=idx,columns=idx)\n",
    "\n",
    "trans_prob_A=trans_1y.loc['A',:]\n",
    "c=0.05\n",
    "maturity=5\n",
    "recovery_rate=0.5113\n",
    "face_val=100\n",
    "#disc_rate=np.array(tbl3.loc[:,1])\n",
    "disc_rate=np.array(tbl3.fillna(0))\n",
    "exp_val=np.sum(c*face_val*np.exp(-np.arange(0,maturity)*disc_rate),axis=1)+face_val*np.exp(-(maturity-1)*disc_rate[:,-1])"
   ],
   "metadata": {
    "collapsed": false,
    "ExecuteTime": {
     "end_time": "2023-10-02T16:49:29.500108Z",
     "start_time": "2023-10-02T16:49:29.493336Z"
    }
   }
  },
  {
   "cell_type": "code",
   "execution_count": 210,
   "outputs": [
    {
     "data": {
      "text/plain": "              value      prob  cum_prob\nAAA      104.394553  0.001809  0.999400\nAA       103.054374  0.041516  0.997591\nA        101.594340  0.834125  0.956074\nBBB       97.773670  0.098975  0.121949\nBB        94.177906  0.015808  0.022974\nB         84.336821  0.005880  0.007166\nCCC       67.134928  0.000407  0.001286\nDefault   51.130000  0.000879  0.000879",
      "text/html": "<div>\n<style scoped>\n    .dataframe tbody tr th:only-of-type {\n        vertical-align: middle;\n    }\n\n    .dataframe tbody tr th {\n        vertical-align: top;\n    }\n\n    .dataframe thead th {\n        text-align: right;\n    }\n</style>\n<table border=\"1\" class=\"dataframe\">\n  <thead>\n    <tr style=\"text-align: right;\">\n      <th></th>\n      <th>value</th>\n      <th>prob</th>\n      <th>cum_prob</th>\n    </tr>\n  </thead>\n  <tbody>\n    <tr>\n      <th>AAA</th>\n      <td>104.394553</td>\n      <td>0.001809</td>\n      <td>0.999400</td>\n    </tr>\n    <tr>\n      <th>AA</th>\n      <td>103.054374</td>\n      <td>0.041516</td>\n      <td>0.997591</td>\n    </tr>\n    <tr>\n      <th>A</th>\n      <td>101.594340</td>\n      <td>0.834125</td>\n      <td>0.956074</td>\n    </tr>\n    <tr>\n      <th>BBB</th>\n      <td>97.773670</td>\n      <td>0.098975</td>\n      <td>0.121949</td>\n    </tr>\n    <tr>\n      <th>BB</th>\n      <td>94.177906</td>\n      <td>0.015808</td>\n      <td>0.022974</td>\n    </tr>\n    <tr>\n      <th>B</th>\n      <td>84.336821</td>\n      <td>0.005880</td>\n      <td>0.007166</td>\n    </tr>\n    <tr>\n      <th>CCC</th>\n      <td>67.134928</td>\n      <td>0.000407</td>\n      <td>0.001286</td>\n    </tr>\n    <tr>\n      <th>Default</th>\n      <td>51.130000</td>\n      <td>0.000879</td>\n      <td>0.000879</td>\n    </tr>\n  </tbody>\n</table>\n</div>"
     },
     "execution_count": 210,
     "metadata": {},
     "output_type": "execute_result"
    }
   ],
   "source": [
    "df=pd.DataFrame(np.vstack([np.array(list(exp_val)+[face_val*recovery_rate]),trans_prob_A]).T,index=idx,columns=['value','prob'])\n",
    "li=df['prob'].tolist()\n",
    "li.reverse()\n",
    "li=list(np.cumsum(li))\n",
    "li.reverse()\n",
    "df['cum_prob']=li\n",
    "df"
   ],
   "metadata": {
    "collapsed": false,
    "ExecuteTime": {
     "end_time": "2023-10-02T16:49:30.757337Z",
     "start_time": "2023-10-02T16:49:30.748647Z"
    }
   }
  },
  {
   "cell_type": "code",
   "execution_count": 211,
   "outputs": [
    {
     "data": {
      "text/plain": "100.94379797994145"
     },
     "execution_count": 211,
     "metadata": {},
     "output_type": "execute_result"
    }
   ],
   "source": [
    "exp_val=(df['value']*df['prob']).sum()\n",
    "exp_val"
   ],
   "metadata": {
    "collapsed": false,
    "ExecuteTime": {
     "end_time": "2023-10-02T16:49:31.928505Z",
     "start_time": "2023-10-02T16:49:31.915584Z"
    }
   }
  },
  {
   "cell_type": "code",
   "execution_count": 212,
   "outputs": [
    {
     "data": {
      "text/plain": "16.606976559744083"
     },
     "execution_count": 212,
     "metadata": {},
     "output_type": "execute_result"
    }
   ],
   "source": [
    "CVaR997=exp_val-df.loc['B','value']\n",
    "CVaR997"
   ],
   "metadata": {
    "collapsed": false,
    "ExecuteTime": {
     "end_time": "2023-10-02T16:49:33.123149Z",
     "start_time": "2023-10-02T16:49:33.112366Z"
    }
   }
  },
  {
   "cell_type": "markdown",
   "source": [
    "(b) Now consider a portfolio of two bonds. The first bond is the bond introduced in (a) above. The second bond is the 3-year senior unsecured bond issued by a BB-rated obligor. The obligors’ assets are correlated with a correlation parameter of 30%. What is the bond portfolio’s expected value (and its standard deviation) in 1 year? Also determine its 1-year 99.7% CVaR."
   ],
   "metadata": {
    "collapsed": false
   }
  },
  {
   "cell_type": "code",
   "execution_count": 170,
   "outputs": [
    {
     "data": {
      "text/plain": "           prob_A  cum_prob_A  threshold_A   prob_BB  cum_prob_BB  \\\nAAA      0.001809    0.999400     3.238761  0.000567     0.989392   \nAA       0.041516    0.997591     2.818908  0.002926     0.988825   \nA        0.834125    0.956074     1.706843  0.016440     0.985899   \nBBB      0.098975    0.121949    -1.165298  0.130336     0.969458   \nBB       0.015808    0.022974    -1.995871  0.658622     0.839123   \nB        0.005880    0.007166    -2.448839  0.147015     0.180501   \nCCC      0.000407    0.001286    -3.014834  0.018231     0.033486   \nDefault  0.000879    0.000879    -3.128304  0.015255     0.015255   \n\n         threshold_BB  \nAAA          2.304124  \nAA           2.284361  \nA            2.194463  \nBBB          1.872893  \nBB           0.990859  \nB           -0.913459  \nCCC         -1.831866  \nDefault     -2.163402  ",
      "text/html": "<div>\n<style scoped>\n    .dataframe tbody tr th:only-of-type {\n        vertical-align: middle;\n    }\n\n    .dataframe tbody tr th {\n        vertical-align: top;\n    }\n\n    .dataframe thead th {\n        text-align: right;\n    }\n</style>\n<table border=\"1\" class=\"dataframe\">\n  <thead>\n    <tr style=\"text-align: right;\">\n      <th></th>\n      <th>prob_A</th>\n      <th>cum_prob_A</th>\n      <th>threshold_A</th>\n      <th>prob_BB</th>\n      <th>cum_prob_BB</th>\n      <th>threshold_BB</th>\n    </tr>\n  </thead>\n  <tbody>\n    <tr>\n      <th>AAA</th>\n      <td>0.001809</td>\n      <td>0.999400</td>\n      <td>3.238761</td>\n      <td>0.000567</td>\n      <td>0.989392</td>\n      <td>2.304124</td>\n    </tr>\n    <tr>\n      <th>AA</th>\n      <td>0.041516</td>\n      <td>0.997591</td>\n      <td>2.818908</td>\n      <td>0.002926</td>\n      <td>0.988825</td>\n      <td>2.284361</td>\n    </tr>\n    <tr>\n      <th>A</th>\n      <td>0.834125</td>\n      <td>0.956074</td>\n      <td>1.706843</td>\n      <td>0.016440</td>\n      <td>0.985899</td>\n      <td>2.194463</td>\n    </tr>\n    <tr>\n      <th>BBB</th>\n      <td>0.098975</td>\n      <td>0.121949</td>\n      <td>-1.165298</td>\n      <td>0.130336</td>\n      <td>0.969458</td>\n      <td>1.872893</td>\n    </tr>\n    <tr>\n      <th>BB</th>\n      <td>0.015808</td>\n      <td>0.022974</td>\n      <td>-1.995871</td>\n      <td>0.658622</td>\n      <td>0.839123</td>\n      <td>0.990859</td>\n    </tr>\n    <tr>\n      <th>B</th>\n      <td>0.005880</td>\n      <td>0.007166</td>\n      <td>-2.448839</td>\n      <td>0.147015</td>\n      <td>0.180501</td>\n      <td>-0.913459</td>\n    </tr>\n    <tr>\n      <th>CCC</th>\n      <td>0.000407</td>\n      <td>0.001286</td>\n      <td>-3.014834</td>\n      <td>0.018231</td>\n      <td>0.033486</td>\n      <td>-1.831866</td>\n    </tr>\n    <tr>\n      <th>Default</th>\n      <td>0.000879</td>\n      <td>0.000879</td>\n      <td>-3.128304</td>\n      <td>0.015255</td>\n      <td>0.015255</td>\n      <td>-2.163402</td>\n    </tr>\n  </tbody>\n</table>\n</div>"
     },
     "execution_count": 170,
     "metadata": {},
     "output_type": "execute_result"
    }
   ],
   "source": [
    "trans_prob_BB = trans_1y.loc['BB',:]\n",
    "li1=trans_prob_BB.tolist()\n",
    "li1.reverse()\n",
    "li1=list(np.cumsum(li1))\n",
    "li1.reverse()\n",
    "dist_A=[stats.norm.ppf(p) for p in li]\n",
    "dist_BB=[stats.norm.ppf(p) for p in li1]\n",
    "df_A_BB=pd.DataFrame([trans_prob_A.tolist(),li,dist_A,trans_prob_BB.tolist(),li1,dist_BB],columns=idx,index=['prob_A','cum_prob_A','threshold_A','prob_BB','cum_prob_BB','threshold_BB']).T\n",
    "df_A_BB"
   ],
   "metadata": {
    "collapsed": false,
    "ExecuteTime": {
     "end_time": "2023-10-02T12:39:52.175459Z",
     "start_time": "2023-10-02T12:39:52.166747Z"
    }
   }
  },
  {
   "cell_type": "code",
   "execution_count": 178,
   "outputs": [],
   "source": [
    "li_all=[]\n",
    "for r in idx:\n",
    "    trans_prob = trans_1y.loc[r,:]\n",
    "    li=trans_prob.tolist()\n",
    "    li.reverse()\n",
    "    li=list(np.cumsum(li))\n",
    "    li.reverse()\n",
    "    dist=[stats.norm.ppf(p) for p in li]\n",
    "    li_all.append(dist)\n",
    "\n",
    "\n",
    "def calc_trans_prob(Ra_low,Ra_up,Rb_low,Rb_up,rho=0.3):\n",
    "    res=dblquad(lambda Ra,Rb: 1/(2*np.pi*np.sqrt(1-rho**2))*np.exp(-1/(2*(1-rho**2))*(Ra**2+Rb**2-2*rho*Ra*Rb)),\n",
    "        Ra_low,Ra_up,\n",
    "        lambda Rb:Rb_low,\n",
    "        lambda Rb:Rb_up,\n",
    "        )\n",
    "    return res[0]"
   ],
   "metadata": {
    "collapsed": false,
    "ExecuteTime": {
     "end_time": "2023-10-02T14:33:41.604623Z",
     "start_time": "2023-10-02T14:33:41.599535Z"
    }
   }
  },
  {
   "cell_type": "code",
   "execution_count": 213,
   "outputs": [
    {
     "data": {
      "text/plain": "              AAA        AA         A       BBB        BB         B       CCC  \\\nAAA           inf -0.935503 -1.987193 -2.608184 -2.809164 -3.435858 -3.900788   \nAA       5.165342  2.233004 -0.981762 -2.030991 -2.548874 -2.710712 -3.255246   \nA        3.238761  2.818908  1.706843 -1.165298 -1.995871 -2.448839 -3.014834   \nBBB      2.911056  2.840560  2.342940  1.194667 -1.171293 -1.869777 -2.521523   \nBB       2.304124  2.284361  2.194463  1.872893  0.990859 -0.913459 -1.831866   \nB        1.624080  1.622959  1.603849  1.559600  1.457918  0.915700 -1.209843   \nCCC      0.849698  0.837404  0.835863  0.819454  0.743987  0.609682  0.150944   \nDefault      -inf      -inf      -inf      -inf      -inf      -inf      -inf   \n\n          Default  \nAAA     -4.133295  \nAA      -3.572196  \nA       -3.128304  \nBBB     -2.746895  \nBB      -2.163402  \nB       -1.624357  \nCCC     -1.105462  \nDefault      -inf  ",
      "text/html": "<div>\n<style scoped>\n    .dataframe tbody tr th:only-of-type {\n        vertical-align: middle;\n    }\n\n    .dataframe tbody tr th {\n        vertical-align: top;\n    }\n\n    .dataframe thead th {\n        text-align: right;\n    }\n</style>\n<table border=\"1\" class=\"dataframe\">\n  <thead>\n    <tr style=\"text-align: right;\">\n      <th></th>\n      <th>AAA</th>\n      <th>AA</th>\n      <th>A</th>\n      <th>BBB</th>\n      <th>BB</th>\n      <th>B</th>\n      <th>CCC</th>\n      <th>Default</th>\n    </tr>\n  </thead>\n  <tbody>\n    <tr>\n      <th>AAA</th>\n      <td>inf</td>\n      <td>-0.935503</td>\n      <td>-1.987193</td>\n      <td>-2.608184</td>\n      <td>-2.809164</td>\n      <td>-3.435858</td>\n      <td>-3.900788</td>\n      <td>-4.133295</td>\n    </tr>\n    <tr>\n      <th>AA</th>\n      <td>5.165342</td>\n      <td>2.233004</td>\n      <td>-0.981762</td>\n      <td>-2.030991</td>\n      <td>-2.548874</td>\n      <td>-2.710712</td>\n      <td>-3.255246</td>\n      <td>-3.572196</td>\n    </tr>\n    <tr>\n      <th>A</th>\n      <td>3.238761</td>\n      <td>2.818908</td>\n      <td>1.706843</td>\n      <td>-1.165298</td>\n      <td>-1.995871</td>\n      <td>-2.448839</td>\n      <td>-3.014834</td>\n      <td>-3.128304</td>\n    </tr>\n    <tr>\n      <th>BBB</th>\n      <td>2.911056</td>\n      <td>2.840560</td>\n      <td>2.342940</td>\n      <td>1.194667</td>\n      <td>-1.171293</td>\n      <td>-1.869777</td>\n      <td>-2.521523</td>\n      <td>-2.746895</td>\n    </tr>\n    <tr>\n      <th>BB</th>\n      <td>2.304124</td>\n      <td>2.284361</td>\n      <td>2.194463</td>\n      <td>1.872893</td>\n      <td>0.990859</td>\n      <td>-0.913459</td>\n      <td>-1.831866</td>\n      <td>-2.163402</td>\n    </tr>\n    <tr>\n      <th>B</th>\n      <td>1.624080</td>\n      <td>1.622959</td>\n      <td>1.603849</td>\n      <td>1.559600</td>\n      <td>1.457918</td>\n      <td>0.915700</td>\n      <td>-1.209843</td>\n      <td>-1.624357</td>\n    </tr>\n    <tr>\n      <th>CCC</th>\n      <td>0.849698</td>\n      <td>0.837404</td>\n      <td>0.835863</td>\n      <td>0.819454</td>\n      <td>0.743987</td>\n      <td>0.609682</td>\n      <td>0.150944</td>\n      <td>-1.105462</td>\n    </tr>\n    <tr>\n      <th>Default</th>\n      <td>-inf</td>\n      <td>-inf</td>\n      <td>-inf</td>\n      <td>-inf</td>\n      <td>-inf</td>\n      <td>-inf</td>\n      <td>-inf</td>\n      <td>-inf</td>\n    </tr>\n  </tbody>\n</table>\n</div>"
     },
     "execution_count": 213,
     "metadata": {},
     "output_type": "execute_result"
    }
   ],
   "source": [
    "threshold_df=pd.DataFrame(li_all,index=idx,columns=idx)\n",
    "threshold_df"
   ],
   "metadata": {
    "collapsed": false,
    "ExecuteTime": {
     "end_time": "2023-10-02T16:53:59.107618Z",
     "start_time": "2023-10-02T16:53:59.094874Z"
    }
   }
  },
  {
   "cell_type": "code",
   "execution_count": 222,
   "outputs": [
    {
     "data": {
      "text/plain": "2.5437964673930327e-05"
     },
     "execution_count": 222,
     "metadata": {},
     "output_type": "execute_result"
    }
   ],
   "source": [
    "calc_trans_prob(-999,-3.572196,-999,-2.163402)"
   ],
   "metadata": {
    "collapsed": false,
    "ExecuteTime": {
     "end_time": "2023-10-02T17:07:19.384596Z",
     "start_time": "2023-10-02T17:07:19.333368Z"
    }
   }
  },
  {
   "cell_type": "code",
   "execution_count": 227,
   "outputs": [
    {
     "data": {
      "text/plain": "1                 AAA            AA             A       BBB        BB  \\\n0                                                                       \nAAA      5.108906e-06  2.524729e-05  1.197018e-04  0.000556  0.000924   \nAA       7.378117e-05  3.706483e-04  1.873244e-03  0.010518  0.024778   \nA        4.715385e-04  2.440338e-03  1.387710e-02  0.112474  0.558696   \nBBB      1.336405e-05  7.171208e-05  4.700676e-04  0.005798  0.061413   \nBB       1.103466e-06  6.001599e-06  4.151952e-05  0.000605  0.008918   \nB        2.562454e-07  1.406014e-06  1.007832e-05  0.000164  0.003042   \nCCC      1.149681e-08  6.359179e-08  4.708283e-07  0.000008  0.000193   \nDefault  0.000000e+00  0.000000e+00  0.000000e+00  0.000000  0.000000   \n\n1               B       CCC  Default  \n0                                     \nAAA      0.000049  0.000003      0.0  \nAA       0.002061  0.000142      0.0  \nA        0.114430  0.013078      0.0  \nBBB      0.023688  0.003715      0.0  \nBB       0.004499  0.000819      0.0  \nB        0.001838  0.000371      0.0  \nCCC      0.000135  0.000030      0.0  \nDefault  0.000000  0.000000      0.0  ",
      "text/html": "<div>\n<style scoped>\n    .dataframe tbody tr th:only-of-type {\n        vertical-align: middle;\n    }\n\n    .dataframe tbody tr th {\n        vertical-align: top;\n    }\n\n    .dataframe thead th {\n        text-align: right;\n    }\n</style>\n<table border=\"1\" class=\"dataframe\">\n  <thead>\n    <tr style=\"text-align: right;\">\n      <th>1</th>\n      <th>AAA</th>\n      <th>AA</th>\n      <th>A</th>\n      <th>BBB</th>\n      <th>BB</th>\n      <th>B</th>\n      <th>CCC</th>\n      <th>Default</th>\n    </tr>\n    <tr>\n      <th>0</th>\n      <th></th>\n      <th></th>\n      <th></th>\n      <th></th>\n      <th></th>\n      <th></th>\n      <th></th>\n      <th></th>\n    </tr>\n  </thead>\n  <tbody>\n    <tr>\n      <th>AAA</th>\n      <td>5.108906e-06</td>\n      <td>2.524729e-05</td>\n      <td>1.197018e-04</td>\n      <td>0.000556</td>\n      <td>0.000924</td>\n      <td>0.000049</td>\n      <td>0.000003</td>\n      <td>0.0</td>\n    </tr>\n    <tr>\n      <th>AA</th>\n      <td>7.378117e-05</td>\n      <td>3.706483e-04</td>\n      <td>1.873244e-03</td>\n      <td>0.010518</td>\n      <td>0.024778</td>\n      <td>0.002061</td>\n      <td>0.000142</td>\n      <td>0.0</td>\n    </tr>\n    <tr>\n      <th>A</th>\n      <td>4.715385e-04</td>\n      <td>2.440338e-03</td>\n      <td>1.387710e-02</td>\n      <td>0.112474</td>\n      <td>0.558696</td>\n      <td>0.114430</td>\n      <td>0.013078</td>\n      <td>0.0</td>\n    </tr>\n    <tr>\n      <th>BBB</th>\n      <td>1.336405e-05</td>\n      <td>7.171208e-05</td>\n      <td>4.700676e-04</td>\n      <td>0.005798</td>\n      <td>0.061413</td>\n      <td>0.023688</td>\n      <td>0.003715</td>\n      <td>0.0</td>\n    </tr>\n    <tr>\n      <th>BB</th>\n      <td>1.103466e-06</td>\n      <td>6.001599e-06</td>\n      <td>4.151952e-05</td>\n      <td>0.000605</td>\n      <td>0.008918</td>\n      <td>0.004499</td>\n      <td>0.000819</td>\n      <td>0.0</td>\n    </tr>\n    <tr>\n      <th>B</th>\n      <td>2.562454e-07</td>\n      <td>1.406014e-06</td>\n      <td>1.007832e-05</td>\n      <td>0.000164</td>\n      <td>0.003042</td>\n      <td>0.001838</td>\n      <td>0.000371</td>\n      <td>0.0</td>\n    </tr>\n    <tr>\n      <th>CCC</th>\n      <td>1.149681e-08</td>\n      <td>6.359179e-08</td>\n      <td>4.708283e-07</td>\n      <td>0.000008</td>\n      <td>0.000193</td>\n      <td>0.000135</td>\n      <td>0.000030</td>\n      <td>0.0</td>\n    </tr>\n    <tr>\n      <th>Default</th>\n      <td>0.000000e+00</td>\n      <td>0.000000e+00</td>\n      <td>0.000000e+00</td>\n      <td>0.000000</td>\n      <td>0.000000</td>\n      <td>0.000000</td>\n      <td>0.000000</td>\n      <td>0.0</td>\n    </tr>\n  </tbody>\n</table>\n</div>"
     },
     "execution_count": 227,
     "metadata": {},
     "output_type": "execute_result"
    }
   ],
   "source": [
    "prob_li=[]\n",
    "\n",
    "for a in range(len(idx)):\n",
    "    for b in range(len(idx)):\n",
    "        if idx[a]=='Default':\n",
    "            Ra_low=-99999\n",
    "        else:\n",
    "            Ra_low=threshold_df.loc['A',idx[a+1]]\n",
    "        Ra_up=threshold_df.loc['A',idx[a]]\n",
    "\n",
    "        if idx[b]=='Default':\n",
    "            Rb_low=-99999\n",
    "        else:\n",
    "            Rb_low=threshold_df.loc['BB',idx[b+1]]\n",
    "        Rb_up=threshold_df.loc['BB',idx[b]]\n",
    "\n",
    "        p=calc_trans_prob(Ra_low,Ra_up,Rb_low,Rb_up)\n",
    "        prob_li.append([idx[a],idx[b],p])\n",
    "\n",
    "df=pd.DataFrame(prob_li)\n",
    "df.pivot(index=0,columns=1,values=2).reindex(idx).T.reindex(idx).T"
   ],
   "metadata": {
    "collapsed": false,
    "ExecuteTime": {
     "end_time": "2023-10-02T17:15:37.703443Z",
     "start_time": "2023-10-02T17:15:37.661718Z"
    }
   }
  },
  {
   "cell_type": "code",
   "execution_count": null,
   "outputs": [],
   "source": [],
   "metadata": {
    "collapsed": false
   }
  },
  {
   "cell_type": "markdown",
   "source": [
    "(c) (Optional) For a general portfolio of N≫ 2 bonds, one has to simulate correlated standard normal variables, and then use the ratings’ cutoffs to determine the new rating that is expected for each obligor in 1 year. To become familiar with this simulation approach, consider the same case as in (b), i.e., N=2, and illustrate how you can generate two correlated standard normal variables using the Cholesky decomposition of the covariance matrix,$\n",
    "V =\n",
    "\\left[\\begin{array}{c}\n",
    "1 & 0.30 \\\\\n",
    "0.30 & 1\n",
    "\\end{array}\\right]\n",
    "$. Simulate a sample of 10,000 draws and determine the 1-year 99.7% CVaR using the simulated portfolio values. [Note: A Cholesky decomposition yields a lower triangular matrix, L, such that LTL = V .]"
   ],
   "metadata": {
    "collapsed": false
   }
  },
  {
   "cell_type": "markdown",
   "source": [],
   "metadata": {
    "collapsed": false
   }
  }
 ],
 "metadata": {
  "kernelspec": {
   "display_name": "Python 3",
   "language": "python",
   "name": "python3"
  },
  "language_info": {
   "codemirror_mode": {
    "name": "ipython",
    "version": 2
   },
   "file_extension": ".py",
   "mimetype": "text/x-python",
   "name": "python",
   "nbconvert_exporter": "python",
   "pygments_lexer": "ipython2",
   "version": "2.7.6"
  }
 },
 "nbformat": 4,
 "nbformat_minor": 0
}
